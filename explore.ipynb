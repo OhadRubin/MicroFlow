{
 "cells": [
  {
   "cell_type": "code",
   "execution_count": 13,
   "metadata": {},
   "outputs": [
    {
     "data": {
      "text/plain": [
       "True"
      ]
     },
     "execution_count": 13,
     "metadata": {},
     "output_type": "execute_result"
    }
   ],
   "source": []
  },
  {
   "cell_type": "code",
   "execution_count": null,
   "metadata": {},
   "outputs": [],
   "source": []
  },
  {
   "cell_type": "code",
   "execution_count": 14,
   "metadata": {},
   "outputs": [
    {
     "data": {
      "text/plain": [
       "'Task(A=a1, C=c1)\\nTask(A=a1, C=c2)\\nTask(A=a2, C=c1)\\nTask(A=a2, C=c2)\\nTask(B=b1, C=c1)\\nTask(B=b1, C=c2)\\nTask(B=b2, C=c1)\\nTask(B=b2, C=c2)'"
      ]
     },
     "execution_count": 14,
     "metadata": {},
     "output_type": "execute_result"
    }
   ],
   "source": []
  },
  {
   "cell_type": "code",
   "execution_count": 17,
   "metadata": {},
   "outputs": [],
   "source": []
  },
  {
   "cell_type": "code",
   "execution_count": 24,
   "metadata": {},
   "outputs": [],
   "source": []
  },
  {
   "cell_type": "code",
   "execution_count": 23,
   "metadata": {},
   "outputs": [
    {
     "data": {
      "text/plain": [
       "'Task(A=a1, B=b1, D=d1)\\nTask(A=a1, B=b1, D=d2)\\nTask(A=a1, B=b2, D=d1)\\nTask(A=a1, B=b2, D=d2)\\nTask(A=a2, B=b1, D=d1)\\nTask(A=a2, B=b1, D=d2)\\nTask(A=a2, B=b2, D=d1)\\nTask(A=a2, B=b2, D=d2)\\nTask(A=a1, C=c1, D=d1)\\nTask(A=a1, C=c1, D=d2)\\nTask(A=a1, C=c2, D=d1)\\nTask(A=a1, C=c2, D=d2)\\nTask(A=a2, C=c1, D=d1)\\nTask(A=a2, C=c1, D=d2)\\nTask(A=a2, C=c2, D=d1)\\nTask(A=a2, C=c2, D=d2)'"
      ]
     },
     "execution_count": 23,
     "metadata": {},
     "output_type": "execute_result"
    }
   ],
   "source": [
    "str(dag)"
   ]
  },
  {
   "cell_type": "code",
   "execution_count": 26,
   "metadata": {},
   "outputs": [],
   "source": []
  },
  {
   "cell_type": "code",
   "execution_count": 30,
   "metadata": {},
   "outputs": [],
   "source": []
  },
  {
   "cell_type": "code",
   "execution_count": 31,
   "metadata": {},
   "outputs": [],
   "source": []
  },
  {
   "cell_type": "code",
   "execution_count": 32,
   "metadata": {},
   "outputs": [],
   "source": [
    "\n",
    "        from src.dag import DAG\n",
    "\n",
    "        dag = DAG()\n",
    "        A = dag.param(\"A\", [\"a1\", \"a2\", \"a3\"])\n",
    "        B = dag.param(\"B\", [\"b1\", \"b2\"])\n",
    "        C = dag.param(\"C\", [\"c1\", \"c2\"])\n",
    "        A >> B\n",
    "        B >> C\n",
    "        str(dag)==\"\"\"Task(A=a1, B=b1, C=c1)\n",
    "        Task(A=a1, B=b1, C=c2)\n",
    "        Task(A=a1, B=b2, C=c1)\n",
    "        Task(A=a1, B=b2, C=c2)\n",
    "        Task(A=a2, B=b1, C=c1)\n",
    "        Task(A=a2, B=b1, C=c2)\n",
    "        Task(A=a2, B=b2, C=c1)\n",
    "        Task(A=a2, B=b2, C=c2)\n",
    "        Task(A=a3, B=b1, C=c1)\n",
    "        Task(A=a3, B=b1, C=c2)\n",
    "        Task(A=a3, B=b2, C=c1)\n",
    "        Task(A=a3, B=b2, C=c2)\"\"\"\n",
    "\n",
    "\n",
    "        dag = DAG()\n",
    "        A = dag.param(\"A\", [\"a1\", \"a2\"])\n",
    "        B = dag.param(\"B\", [\"b1\", \"b2\"])\n",
    "        C = dag.param(\"C\", [\"c1\", \"c2\"])\n",
    "        A >> C\n",
    "        B >> C\n",
    "        assert str(dag)=='Task(A=a1, C=c1)\\nTask(A=a1, C=c2)\\nTask(A=a2, C=c1)\\nTask(A=a2, C=c2)\\nTask(B=b1, C=c1)\\nTask(B=b1, C=c2)\\nTask(B=b2, C=c1)\\nTask(B=b2, C=c2)'\n",
    "\n",
    "\n",
    "\n",
    "\n",
    "        dag = DAG()\n",
    "        A = dag.param(\"A\", [\"a1\", \"a2\"])\n",
    "        B = dag.param(\"B\", [\"b1\", \"b2\"])\n",
    "        C = dag.param(\"C\", [\"c1\", \"c2\"])\n",
    "        A >> B\n",
    "        A >> C\n",
    "        assert str(dag)==\"\"\"Task(A=a1, B=b1)\n",
    "        Task(A=a1, B=b2)\n",
    "        Task(A=a2, B=b1)\n",
    "        Task(A=a2, B=b2)\n",
    "        Task(A=a1, C=c1)\n",
    "        Task(A=a1, C=c2)\n",
    "        Task(A=a2, C=c1)\n",
    "        Task(A=a2, C=c2)\"\"\"\n",
    "\n",
    "        dag = DAG()\n",
    "        A = dag.param(\"A\", [\"a1\", \"a2\"])\n",
    "        B = dag.param(\"B\", [\"b1\", \"b2\"])\n",
    "        C = dag.param(\"C\", [\"c1\", \"c2\"])\n",
    "        D = dag.param(\"D\", [\"d1\", \"d2\"])\n",
    "        A >> B\n",
    "        A >> C\n",
    "        B >> D\n",
    "        C >> D\n",
    "        assert str(dag)=='Task(A=a1, B=b1, D=d1)\\nTask(A=a1, B=b1, D=d2)\\nTask(A=a1, B=b2, D=d1)\\nTask(A=a1, B=b2, D=d2)\\nTask(A=a2, B=b1, D=d1)\\nTask(A=a2, B=b1, D=d2)\\nTask(A=a2, B=b2, D=d1)\\nTask(A=a2, B=b2, D=d2)\\nTask(A=a1, C=c1, D=d1)\\nTask(A=a1, C=c1, D=d2)\\nTask(A=a1, C=c2, D=d1)\\nTask(A=a1, C=c2, D=d2)\\nTask(A=a2, C=c1, D=d1)\\nTask(A=a2, C=c1, D=d2)\\nTask(A=a2, C=c2, D=d1)\\nTask(A=a2, C=c2, D=d2)'\n",
    "\n",
    "\n",
    "\n",
    "        dag = DAG()\n",
    "        A = dag.param(\"A\", [\"a1\", \"a2\"])\n",
    "        B = dag.param(\"B\", [\"b1\", \"b2\"])\n",
    "        C = dag.param(\"C\", [\"c1\", \"c2\"])\n",
    "        A >> B\n",
    "        B >> C\n",
    "        assert str(dag)=='Task(A=a1, B=b1, C=c1)\\nTask(A=a1, B=b1, C=c2)\\nTask(A=a1, B=b2, C=c1)\\nTask(A=a1, B=b2, C=c2)\\nTask(A=a2, B=b1, C=c1)\\nTask(A=a2, B=b1, C=c2)\\nTask(A=a2, B=b2, C=c1)\\nTask(A=a2, B=b2, C=c2)'\n",
    "\n",
    "\n",
    "\n",
    "        dag = DAG()\n",
    "        A = dag.param(\"A\", [\"a1\", \"a2\"])\n",
    "        B = dag.param(\"B\", [\"b1\", \"b2\"])\n",
    "        C = dag.param(\"C\", [\"c1\", \"c2\"])\n",
    "        D = dag.param(\"D\", [\"d1\", \"d2\"])\n",
    "        A >> B\n",
    "        B >> C\n",
    "        C >> D\n",
    "        A >> D\n",
    "        assert str(dag)=='Task(A=a1, B=b1, C=c1, D=d1)\\nTask(A=a1, B=b1, C=c1, D=d2)\\nTask(A=a1, B=b1, C=c2, D=d1)\\nTask(A=a1, B=b1, C=c2, D=d2)\\nTask(A=a1, B=b2, C=c1, D=d1)\\nTask(A=a1, B=b2, C=c1, D=d2)\\nTask(A=a1, B=b2, C=c2, D=d1)\\nTask(A=a1, B=b2, C=c2, D=d2)\\nTask(A=a2, B=b1, C=c1, D=d1)\\nTask(A=a2, B=b1, C=c1, D=d2)\\nTask(A=a2, B=b1, C=c2, D=d1)\\nTask(A=a2, B=b1, C=c2, D=d2)\\nTask(A=a2, B=b2, C=c1, D=d1)\\nTask(A=a2, B=b2, C=c1, D=d2)\\nTask(A=a2, B=b2, C=c2, D=d1)\\nTask(A=a2, B=b2, C=c2, D=d2)\\nTask(A=a1, D=d1)\\nTask(A=a1, D=d2)\\nTask(A=a2, D=d1)\\nTask(A=a2, D=d2)'\n",
    "\n",
    "\n",
    "\n",
    "        from src.dag import DAG\n",
    "        dag = DAG()\n",
    "        A = dag.param(\"A\", [\"a1\"])\n",
    "        B = dag.param(\"B\", [\"b1\"])\n",
    "        C = dag.param(\"C\", [\"c1\"])\n",
    "        D = dag.param(\"D\", [\"d1\"])\n",
    "        A >> B\n",
    "        A >> C\n",
    "        B >> D\n",
    "        C >> D\n",
    "        A >> D\n",
    "        assert str(dag)=='Task(A=a1, B=b1, D=d1)\\nTask(A=a1, C=c1, D=d1)\\nTask(A=a1, D=d1)'\n",
    "\n"
   ]
  },
  {
   "cell_type": "code",
   "execution_count": null,
   "metadata": {},
   "outputs": [],
   "source": []
  }
 ],
 "metadata": {
  "kernelspec": {
   "display_name": "Python 3",
   "language": "python",
   "name": "python3"
  },
  "language_info": {
   "codemirror_mode": {
    "name": "ipython",
    "version": 3
   },
   "file_extension": ".py",
   "mimetype": "text/x-python",
   "name": "python",
   "nbconvert_exporter": "python",
   "pygments_lexer": "ipython3",
   "version": "3.8.10"
  },
  "orig_nbformat": 4
 },
 "nbformat": 4,
 "nbformat_minor": 2
}
